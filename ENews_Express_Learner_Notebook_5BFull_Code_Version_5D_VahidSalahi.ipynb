{
  "cells": [
    {
      "cell_type": "markdown",
      "metadata": {
        "id": "view-in-github",
        "colab_type": "text"
      },
      "source": [
        "<a href=\"https://colab.research.google.com/github/vsalahi/PGP-DSBA-UTA/blob/BusinessStatistics/ENews_Express_Learner_Notebook_5BFull_Code_Version_5D_VahidSalahi.ipynb\" target=\"_parent\"><img src=\"https://colab.research.google.com/assets/colab-badge.svg\" alt=\"Open In Colab\"/></a>"
      ]
    },
    {
      "cell_type": "markdown",
      "id": "636aa7e1",
      "metadata": {
        "id": "636aa7e1"
      },
      "source": [
        "# Project Business Statistics: E-news Express\n",
        "\n",
        "**Marks: 60**"
      ]
    },
    {
      "cell_type": "markdown",
      "id": "af959d1b",
      "metadata": {
        "id": "af959d1b"
      },
      "source": [
        "## Define Problem Statement and Objectives"
      ]
    },
    {
      "cell_type": "markdown",
      "id": "2261c4fa",
      "metadata": {
        "id": "2261c4fa"
      },
      "source": [
        "An online news portal aims to expand its business by acquiring new subscribers. Every visitor to the website takes certain actions based on their interest. The company plans to analyze these interests and wants to determine whether a new feature will be effective or not. \n",
        "\n",
        "The design team of the company has created a new landing page. Company wantes to decide whether the new landing page is more effective to gather new subscribers. There is a randomly selected sample of 100 users which they are divided equally into two groups. The old landing page is served to the first group (control group) and the new landing page is served to the second group (treatment group). Various data about the customers in both groups are collected in 'abtest.csv'.\n"
      ]
    },
    {
      "cell_type": "markdown",
      "id": "1a5413e0",
      "metadata": {
        "id": "1a5413e0"
      },
      "source": [
        "### Objectives\n",
        "To perform statistical analysis on the provided sample to answer the following questions:\n",
        "\n",
        "* Explore the dataset and extract insights using Exploratory Data Analysis.\n",
        "* Do the users spend more time on the new landing page than the old landing page?\n",
        "* Is the conversion rate (the proportion of users who visit the landing page and get converted) for the new page greater than the conversion rate for the old page?\n",
        "* Does the converted status depend on the preferred language?\n",
        "* Is the mean time spent on the new page same for the different language users?"
      ]
    },
    {
      "cell_type": "markdown",
      "id": "e563685a",
      "metadata": {
        "id": "e563685a"
      },
      "source": [
        "## Data Dictionary\n",
        "\n",
        "1. user_id - This represents the user ID of the person visiting the website.\n",
        "\n",
        "2. group - This represents whether the user belongs to the first group (control) or the second group (treatment).\n",
        "\n",
        "3. landing_page - This represents whether the landing page is new or old.\n",
        "\n",
        "4. time_spent_on_the_page - This represents the time (in minutes) spent by the user on the landing page.\n",
        "\n",
        "5. converted - This represents whether the user gets converted to a subscriber of the news portal or not.\n",
        "\n",
        "6. language_preferred - This represents the language chosen by the user to view the landing page."
      ]
    },
    {
      "cell_type": "markdown",
      "id": "62ac39be",
      "metadata": {
        "id": "62ac39be"
      },
      "source": [
        "## Import all the necessary libraries"
      ]
    },
    {
      "cell_type": "code",
      "execution_count": null,
      "id": "57a26514",
      "metadata": {
        "id": "57a26514"
      },
      "outputs": [],
      "source": [
        "import numpy as np\n",
        "import pandas as pd\n",
        "from matplotlib import pyplot as plt\n",
        "import seaborn as sns"
      ]
    },
    {
      "cell_type": "markdown",
      "id": "9231f4f1",
      "metadata": {
        "id": "9231f4f1"
      },
      "source": [
        "## 1. Explore the dataset and extract insights using Exploratory Data Analysis. (10 Marks)"
      ]
    },
    {
      "cell_type": "markdown",
      "id": "a229f58e",
      "metadata": {
        "id": "a229f58e"
      },
      "source": [
        "### Exploratory Data Analysis - Step by step approach\n",
        "\n",
        "Typical Data exploration activity consists of the following steps:\n",
        "1.\tImporting Data\n",
        "2.\tVariable Identification\n",
        "3.  Variable Transformation/Feature Creation\n",
        "4.  Missing value detection\n",
        "5.\tUnivariate Analysis\n",
        "6.\tBivariate Analysis"
      ]
    },
    {
      "cell_type": "markdown",
      "id": "25df08df",
      "metadata": {
        "id": "25df08df"
      },
      "source": [
        "### Reading the Data into a DataFrame"
      ]
    },
    {
      "cell_type": "code",
      "execution_count": null,
      "id": "a750b2f0",
      "metadata": {
        "id": "a750b2f0",
        "outputId": "635a03b3-8408-46f1-efe2-1b99b967995b"
      },
      "outputs": [
        {
          "data": {
            "text/html": [
              "<div>\n",
              "<style scoped>\n",
              "    .dataframe tbody tr th:only-of-type {\n",
              "        vertical-align: middle;\n",
              "    }\n",
              "\n",
              "    .dataframe tbody tr th {\n",
              "        vertical-align: top;\n",
              "    }\n",
              "\n",
              "    .dataframe thead th {\n",
              "        text-align: right;\n",
              "    }\n",
              "</style>\n",
              "<table border=\"1\" class=\"dataframe\">\n",
              "  <thead>\n",
              "    <tr style=\"text-align: right;\">\n",
              "      <th></th>\n",
              "      <th>user_id</th>\n",
              "      <th>group</th>\n",
              "      <th>landing_page</th>\n",
              "      <th>time_spent_on_the_page</th>\n",
              "      <th>converted</th>\n",
              "      <th>language_preferred</th>\n",
              "    </tr>\n",
              "  </thead>\n",
              "  <tbody>\n",
              "    <tr>\n",
              "      <th>0</th>\n",
              "      <td>546592</td>\n",
              "      <td>control</td>\n",
              "      <td>old</td>\n",
              "      <td>3.48</td>\n",
              "      <td>no</td>\n",
              "      <td>Spanish</td>\n",
              "    </tr>\n",
              "    <tr>\n",
              "      <th>1</th>\n",
              "      <td>546468</td>\n",
              "      <td>treatment</td>\n",
              "      <td>new</td>\n",
              "      <td>7.13</td>\n",
              "      <td>yes</td>\n",
              "      <td>English</td>\n",
              "    </tr>\n",
              "    <tr>\n",
              "      <th>2</th>\n",
              "      <td>546462</td>\n",
              "      <td>treatment</td>\n",
              "      <td>new</td>\n",
              "      <td>4.40</td>\n",
              "      <td>no</td>\n",
              "      <td>Spanish</td>\n",
              "    </tr>\n",
              "    <tr>\n",
              "      <th>3</th>\n",
              "      <td>546567</td>\n",
              "      <td>control</td>\n",
              "      <td>old</td>\n",
              "      <td>3.02</td>\n",
              "      <td>no</td>\n",
              "      <td>French</td>\n",
              "    </tr>\n",
              "    <tr>\n",
              "      <th>4</th>\n",
              "      <td>546459</td>\n",
              "      <td>treatment</td>\n",
              "      <td>new</td>\n",
              "      <td>4.75</td>\n",
              "      <td>yes</td>\n",
              "      <td>Spanish</td>\n",
              "    </tr>\n",
              "  </tbody>\n",
              "</table>\n",
              "</div>"
            ],
            "text/plain": [
              "   user_id      group landing_page  time_spent_on_the_page converted  \\\n",
              "0   546592    control          old                    3.48        no   \n",
              "1   546468  treatment          new                    7.13       yes   \n",
              "2   546462  treatment          new                    4.40        no   \n",
              "3   546567    control          old                    3.02        no   \n",
              "4   546459  treatment          new                    4.75       yes   \n",
              "\n",
              "  language_preferred  \n",
              "0            Spanish  \n",
              "1            English  \n",
              "2            Spanish  \n",
              "3             French  \n",
              "4            Spanish  "
            ]
          },
          "execution_count": 4,
          "metadata": {},
          "output_type": "execute_result"
        }
      ],
      "source": [
        "# reading the data\n",
        "df = pd.read_csv('abtest.csv')\n",
        "df.head()"
      ]
    },
    {
      "cell_type": "code",
      "execution_count": null,
      "id": "d480fcfb",
      "metadata": {
        "id": "d480fcfb",
        "outputId": "2a01016a-8da0-469f-de4b-4a6170e271ab"
      },
      "outputs": [
        {
          "data": {
            "text/plain": [
              "(100, 6)"
            ]
          },
          "execution_count": 5,
          "metadata": {},
          "output_type": "execute_result"
        }
      ],
      "source": [
        "# check number of records\n",
        "df.shape"
      ]
    },
    {
      "cell_type": "code",
      "execution_count": null,
      "id": "be27473b",
      "metadata": {
        "id": "be27473b",
        "outputId": "656b3939-f7ca-4403-bfa4-e8932dbda509"
      },
      "outputs": [
        {
          "name": "stdout",
          "output_type": "stream",
          "text": [
            "<class 'pandas.core.frame.DataFrame'>\n",
            "RangeIndex: 100 entries, 0 to 99\n",
            "Data columns (total 6 columns):\n",
            " #   Column                  Non-Null Count  Dtype   \n",
            "---  ------                  --------------  -----   \n",
            " 0   user_id                 100 non-null    int64   \n",
            " 1   group                   100 non-null    category\n",
            " 2   landing_page            100 non-null    category\n",
            " 3   time_spent_on_the_page  100 non-null    float64 \n",
            " 4   converted               100 non-null    category\n",
            " 5   language_preferred      100 non-null    category\n",
            "dtypes: category(4), float64(1), int64(1)\n",
            "memory usage: 2.6 KB\n"
          ]
        }
      ],
      "source": [
        "# get information about data types\n",
        "df.info()"
      ]
    },
    {
      "cell_type": "code",
      "execution_count": null,
      "id": "93fa9570",
      "metadata": {
        "id": "93fa9570",
        "outputId": "6cabc322-dd1b-4d92-bb54-b258ece75cf1"
      },
      "outputs": [
        {
          "data": {
            "text/plain": [
              "group                 2\n",
              "landing_page          2\n",
              "converted             2\n",
              "language_preferred    3\n",
              "dtype: int64"
            ]
          },
          "execution_count": 50,
          "metadata": {},
          "output_type": "execute_result"
        }
      ],
      "source": [
        "# number of unique values for categorical attributes\n",
        "cat_cols = ['group','landing_page','converted','language_preferred']\n",
        "df[cat_cols].nunique()"
      ]
    },
    {
      "cell_type": "code",
      "execution_count": null,
      "id": "3a3080bb",
      "metadata": {
        "id": "3a3080bb",
        "outputId": "140313f9-0607-4f80-90c7-af5bf3fe4eff"
      },
      "outputs": [
        {
          "name": "stdout",
          "output_type": "stream",
          "text": [
            "control      50\n",
            "treatment    50\n",
            "Name: group, dtype: int64 \n",
            "\n",
            "\n",
            "new    50\n",
            "old    50\n",
            "Name: landing_page, dtype: int64 \n",
            "\n",
            "\n",
            "yes    54\n",
            "no     46\n",
            "Name: converted, dtype: int64 \n",
            "\n",
            "\n",
            "French     34\n",
            "Spanish    34\n",
            "English    32\n",
            "Name: language_preferred, dtype: int64 \n",
            "\n",
            "\n"
          ]
        }
      ],
      "source": [
        "# number of records for each item of a category \n",
        "for i in cat_cols:\n",
        "    print(df[i].value_counts(),'\\n\\n')"
      ]
    },
    {
      "cell_type": "code",
      "execution_count": null,
      "id": "36654d64",
      "metadata": {
        "id": "36654d64",
        "outputId": "9327b0bc-7b08-46ce-a36e-1d4df92049ab"
      },
      "outputs": [
        {
          "data": {
            "text/plain": [
              "user_id                   0\n",
              "group                     0\n",
              "landing_page              0\n",
              "time_spent_on_the_page    0\n",
              "converted                 0\n",
              "language_preferred        0\n",
              "dtype: int64"
            ]
          },
          "execution_count": 9,
          "metadata": {},
          "output_type": "execute_result"
        }
      ],
      "source": [
        "# check for missing values\n",
        "df.isnull().sum()"
      ]
    },
    {
      "cell_type": "markdown",
      "id": "15173206",
      "metadata": {
        "id": "15173206"
      },
      "source": [
        "### Observations\n",
        "* Data includes 100 rows and 6 columns.\n",
        "* Columns are consist of 4 categorical and 1 numeric attributes (excluding the user_id column).\n",
        "* There are no missing values in the data.\n",
        "* Attributes with \"object\" data type can be converted to pandas \"category\" data type for the purpose of memory efficiency."
      ]
    },
    {
      "cell_type": "code",
      "execution_count": null,
      "id": "ceb3e970",
      "metadata": {
        "id": "ceb3e970",
        "outputId": "be45e1d0-7d44-43f5-e64f-95268d07588d"
      },
      "outputs": [
        {
          "name": "stdout",
          "output_type": "stream",
          "text": [
            "<class 'pandas.core.frame.DataFrame'>\n",
            "RangeIndex: 100 entries, 0 to 99\n",
            "Data columns (total 6 columns):\n",
            " #   Column                  Non-Null Count  Dtype   \n",
            "---  ------                  --------------  -----   \n",
            " 0   user_id                 100 non-null    int64   \n",
            " 1   group                   100 non-null    category\n",
            " 2   landing_page            100 non-null    category\n",
            " 3   time_spent_on_the_page  100 non-null    float64 \n",
            " 4   converted               100 non-null    category\n",
            " 5   language_preferred      100 non-null    category\n",
            "dtypes: category(4), float64(1), int64(1)\n",
            "memory usage: 2.6 KB\n"
          ]
        }
      ],
      "source": [
        "# Converting \"objects\" to \"category\"\n",
        "df[['group','landing_page','converted','language_preferred']] = df[['group'\n",
        "                                                                    ,'landing_page'\n",
        "                                                                    ,'converted'\n",
        "                                                                    ,'language_preferred']].astype('category')\n",
        "df.info()"
      ]
    },
    {
      "cell_type": "markdown",
      "id": "42fe3cd8",
      "metadata": {
        "id": "42fe3cd8"
      },
      "source": [
        "### Summary statistics"
      ]
    },
    {
      "cell_type": "code",
      "execution_count": null,
      "id": "f248717b",
      "metadata": {
        "id": "f248717b",
        "outputId": "f630b1ad-2644-4ea2-a2f5-245dc0021e20"
      },
      "outputs": [
        {
          "data": {
            "text/html": [
              "<div>\n",
              "<style scoped>\n",
              "    .dataframe tbody tr th:only-of-type {\n",
              "        vertical-align: middle;\n",
              "    }\n",
              "\n",
              "    .dataframe tbody tr th {\n",
              "        vertical-align: top;\n",
              "    }\n",
              "\n",
              "    .dataframe thead th {\n",
              "        text-align: right;\n",
              "    }\n",
              "</style>\n",
              "<table border=\"1\" class=\"dataframe\">\n",
              "  <thead>\n",
              "    <tr style=\"text-align: right;\">\n",
              "      <th></th>\n",
              "      <th>count</th>\n",
              "      <th>unique</th>\n",
              "      <th>top</th>\n",
              "      <th>freq</th>\n",
              "    </tr>\n",
              "  </thead>\n",
              "  <tbody>\n",
              "    <tr>\n",
              "      <th>group</th>\n",
              "      <td>100</td>\n",
              "      <td>2</td>\n",
              "      <td>control</td>\n",
              "      <td>50</td>\n",
              "    </tr>\n",
              "    <tr>\n",
              "      <th>landing_page</th>\n",
              "      <td>100</td>\n",
              "      <td>2</td>\n",
              "      <td>new</td>\n",
              "      <td>50</td>\n",
              "    </tr>\n",
              "    <tr>\n",
              "      <th>converted</th>\n",
              "      <td>100</td>\n",
              "      <td>2</td>\n",
              "      <td>yes</td>\n",
              "      <td>54</td>\n",
              "    </tr>\n",
              "    <tr>\n",
              "      <th>language_preferred</th>\n",
              "      <td>100</td>\n",
              "      <td>3</td>\n",
              "      <td>French</td>\n",
              "      <td>34</td>\n",
              "    </tr>\n",
              "  </tbody>\n",
              "</table>\n",
              "</div>"
            ],
            "text/plain": [
              "                   count unique      top freq\n",
              "group                100      2  control   50\n",
              "landing_page         100      2      new   50\n",
              "converted            100      2      yes   54\n",
              "language_preferred   100      3   French   34"
            ]
          },
          "execution_count": 11,
          "metadata": {},
          "output_type": "execute_result"
        }
      ],
      "source": [
        "df.describe(include='category').T"
      ]
    },
    {
      "cell_type": "code",
      "execution_count": null,
      "id": "58a6943d",
      "metadata": {
        "id": "58a6943d",
        "outputId": "1a047499-03f6-41aa-d1c6-73416756a6e5"
      },
      "outputs": [
        {
          "data": {
            "text/html": [
              "<div>\n",
              "<style scoped>\n",
              "    .dataframe tbody tr th:only-of-type {\n",
              "        vertical-align: middle;\n",
              "    }\n",
              "\n",
              "    .dataframe tbody tr th {\n",
              "        vertical-align: top;\n",
              "    }\n",
              "\n",
              "    .dataframe thead th {\n",
              "        text-align: right;\n",
              "    }\n",
              "</style>\n",
              "<table border=\"1\" class=\"dataframe\">\n",
              "  <thead>\n",
              "    <tr style=\"text-align: right;\">\n",
              "      <th></th>\n",
              "      <th>count</th>\n",
              "      <th>mean</th>\n",
              "      <th>std</th>\n",
              "      <th>min</th>\n",
              "      <th>25%</th>\n",
              "      <th>50%</th>\n",
              "      <th>75%</th>\n",
              "      <th>max</th>\n",
              "    </tr>\n",
              "  </thead>\n",
              "  <tbody>\n",
              "    <tr>\n",
              "      <th>time_spent_on_the_page</th>\n",
              "      <td>100.0</td>\n",
              "      <td>5.3778</td>\n",
              "      <td>2.378166</td>\n",
              "      <td>0.19</td>\n",
              "      <td>3.88</td>\n",
              "      <td>5.415</td>\n",
              "      <td>7.0225</td>\n",
              "      <td>10.71</td>\n",
              "    </tr>\n",
              "  </tbody>\n",
              "</table>\n",
              "</div>"
            ],
            "text/plain": [
              "                        count    mean       std   min   25%    50%     75%  \\\n",
              "time_spent_on_the_page  100.0  5.3778  2.378166  0.19  3.88  5.415  7.0225   \n",
              "\n",
              "                          max  \n",
              "time_spent_on_the_page  10.71  "
            ]
          },
          "execution_count": 12,
          "metadata": {},
          "output_type": "execute_result"
        }
      ],
      "source": [
        "df.describe(include='float').T"
      ]
    },
    {
      "cell_type": "markdown",
      "id": "3222e6a9",
      "metadata": {
        "id": "3222e6a9"
      },
      "source": [
        "### Univariate Analysis"
      ]
    },
    {
      "cell_type": "code",
      "execution_count": null,
      "id": "029fcac0",
      "metadata": {
        "id": "029fcac0"
      },
      "outputs": [],
      "source": [
        "# function to plot a boxplot and a histogram along the same scale.\n",
        "\n",
        "\n",
        "def histogram_boxplot(data, feature, figsize=(12, 7), kde=False, bins=None):\n",
        "    \"\"\"\n",
        "    Boxplot and histogram combined\n",
        "\n",
        "    data: dataframe\n",
        "    feature: dataframe column\n",
        "    figsize: size of figure (default (12,7))\n",
        "    kde: whether to show the density curve (default False)\n",
        "    bins: number of bins for histogram (default None)\n",
        "    \"\"\"\n",
        "    f2, (ax_box2, ax_hist2) = plt.subplots(\n",
        "        nrows=2,  # Number of rows of the subplot grid= 2\n",
        "        sharex=True,  # x-axis will be shared among all subplots\n",
        "        gridspec_kw={\"height_ratios\": (0.25, 0.75)},\n",
        "        figsize=figsize,\n",
        "    )  # creating the 2 subplots\n",
        "    sns.boxplot(\n",
        "        data=data, x=feature, ax=ax_box2, showmeans=True, color=\"violet\"\n",
        "    )  # boxplot will be created and a star will indicate the mean value of the column\n",
        "    sns.histplot(\n",
        "        data=data, x=feature, kde=kde, ax=ax_hist2, bins=bins, palette=\"winter\"\n",
        "    ) if bins else sns.histplot(\n",
        "        data=data, x=feature, kde=kde, ax=ax_hist2\n",
        "    )  # For histogram\n",
        "    ax_hist2.axvline(\n",
        "        data[feature].mean(), color=\"green\", linestyle=\"--\"\n",
        "    )  # Add mean to the histogram\n",
        "    ax_hist2.axvline(\n",
        "        data[feature].median(), color=\"black\", linestyle=\"-\"\n",
        "    )  # Add median to the histogram"
      ]
    },
    {
      "cell_type": "code",
      "execution_count": null,
      "id": "107d2b5b",
      "metadata": {
        "id": "107d2b5b"
      },
      "outputs": [],
      "source": [
        "# function to create labeled barplots\n",
        "\n",
        "\n",
        "def labeled_barplot(data, feature, perc=False, n=None):\n",
        "    \"\"\"\n",
        "    Barplot with percentage at the top\n",
        "\n",
        "    data: dataframe\n",
        "    feature: dataframe column\n",
        "    perc: whether to display percentages instead of count (default is False)\n",
        "    n: displays the top n category levels (default is None, i.e., display all levels)\n",
        "    \"\"\"\n",
        "\n",
        "    total = len(data[feature])  # length of the column\n",
        "    count = data[feature].nunique()\n",
        "    if n is None:\n",
        "        plt.figure(figsize=(count + 1, 5))\n",
        "    else:\n",
        "        plt.figure(figsize=(n + 1, 5))\n",
        "\n",
        "    plt.xticks(rotation=90, fontsize=15)\n",
        "    ax = sns.countplot(data=data, x=feature, palette=\"Paired\", order=data[feature].value_counts().index[:n].sort_values())\n",
        "\n",
        "    for p in ax.patches:\n",
        "        if perc == True:\n",
        "            label = \"{:.1f}%\".format(100 * p.get_height() / total)  # percentage of each class of the category\n",
        "        else:\n",
        "            label = p.get_height()  # count of each level of the category\n",
        "\n",
        "        x = p.get_x() + p.get_width() / 2  # width of the plot\n",
        "        y = p.get_height()      # height of the plot\n",
        "\n",
        "        ax.annotate(label, (x, y), ha=\"center\", va=\"center\", size=12, xytext=(0, 5), textcoords=\"offset points\")  # annotate the percentage\n",
        "\n",
        "    plt.show()  # show the plot"
      ]
    },
    {
      "cell_type": "code",
      "execution_count": null,
      "id": "5e6b0e4f",
      "metadata": {
        "id": "5e6b0e4f"
      },
      "outputs": [],
      "source": [
        "def perc_on_bar(plot, feature):\n",
        "    '''\n",
        "    plot\n",
        "    feature: categorical feature\n",
        "    the function won't work if a column is passed in hue parameter\n",
        "    '''\n",
        "    total = len(feature) # length of the column\n",
        "    for p in ax.patches:\n",
        "        percentage = '{:.1f}%'.format(100 * p.get_height()/total) # percentage of each class of the category\n",
        "        x = p.get_x() + p.get_width() / 2 - 0.05 # width of the plot\n",
        "        y = p.get_y() + p.get_height() + 0.5         # height of the plot\n",
        "        ax.annotate(percentage, (x, y), size = 12) # annotate the percentage \n",
        "    plt.show() # show the plot\n",
        "\n",
        "def per_calc(feature):\n",
        "    x1 = feature.value_counts()[0]\n",
        "    x2 = feature.value_counts()[1]\n",
        "    total = len(feature)\n",
        "    x1_perc = x1/total\n",
        "    x2_perc = x2/total\n",
        "    return x1_perc, x2_perc"
      ]
    },
    {
      "cell_type": "code",
      "execution_count": null,
      "id": "22dab6f9",
      "metadata": {
        "id": "22dab6f9"
      },
      "outputs": [],
      "source": [
        ""
      ]
    },
    {
      "cell_type": "code",
      "execution_count": null,
      "id": "3e5c2843",
      "metadata": {
        "id": "3e5c2843",
        "outputId": "5ba10cc3-82a3-4aca-e5c7-d817079b24bd"
      },
      "outputs": [
        {
          "data": {
            "image/png": "[encoded data removed]",
            "text/plain": [
              "<Figure size 864x504 with 2 Axes>"
            ]
          },
          "metadata": {
            "needs_background": "light"
          },
          "output_type": "display_data"
        }
      ],
      "source": [
        "histogram_boxplot(df, 'time_spent_on_the_page', kde=True, bins=10)"
      ]
    },
    {
      "cell_type": "markdown",
      "id": "2f8bd546",
      "metadata": {
        "id": "2f8bd546"
      },
      "source": [
        "The time users spent on the page seems to follow a normal distribution and central tendency."
      ]
    },
    {
      "cell_type": "code",
      "execution_count": null,
      "id": "21c7d361",
      "metadata": {
        "id": "21c7d361",
        "outputId": "cb29dd24-a332-4592-bdf5-bf179a03ecac"
      },
      "outputs": [
        {
          "data": {
            "image/png": "[encoded data removed]",
            "text/plain": [
              "<Figure size 1080x360 with 3 Axes>"
            ]
          },
          "metadata": {
            "needs_background": "light"
          },
          "output_type": "display_data"
        }
      ],
      "source": [
        "# Distribution of data over categorical attributes\n",
        "fig, axs = plt.subplots(1,3, figsize=(15,5))\n",
        "sns.countplot(ax = axs[0], data = df, x = 'landing_page')\n",
        "sns.countplot(ax = axs[1], data = df, x = 'converted')\n",
        "sns.countplot(ax = axs[2], data = df, x = 'language_preferred')\n",
        "plt.show()"
      ]
    },
    {
      "cell_type": "markdown",
      "id": "b6611698",
      "metadata": {
        "id": "b6611698"
      },
      "source": [
        "### Bivariate Analysis"
      ]
    },
    {
      "cell_type": "code",
      "execution_count": null,
      "id": "9355a200",
      "metadata": {
        "id": "9355a200",
        "outputId": "4dfe1c23-97a4-488d-fafe-081175aba7f0"
      },
      "outputs": [
        {
          "data": {
            "image/png": "[encoded data removed]",
            "text/plain": [
              "<Figure size 1080x360 with 3 Axes>"
            ]
          },
          "metadata": {
            "needs_background": "light"
          },
          "output_type": "display_data"
        }
      ],
      "source": [
        "# distribution of time spent on the page for each categorical attributes\n",
        "fig, axs = plt.subplots(1,3, sharey=True, figsize=(15,5))\n",
        "sns.boxplot(ax = axs[0], data = df, y = 'time_spent_on_the_page', x = 'landing_page', showmeans=True)\n",
        "sns.boxplot(ax = axs[1], data = df, y = 'time_spent_on_the_page', x = 'converted', showmeans=True)\n",
        "sns.boxplot(ax = axs[2], data = df, y = 'time_spent_on_the_page', x = 'language_preferred', showmeans=True)\n",
        "plt.show()"
      ]
    },
    {
      "cell_type": "markdown",
      "id": "65aa76a1",
      "metadata": {
        "id": "65aa76a1"
      },
      "source": [
        "* The distribution of time for each landing page seems normal. On this sample, on average, users spent more time on the new landing page.\n",
        "* User who subscribed to the channel spent more time on the channel in this sample.\n",
        "* It seems that users with different preferred language spent around the same time on the channel."
      ]
    },
    {
      "cell_type": "code",
      "execution_count": null,
      "id": "4c86faef",
      "metadata": {
        "id": "4c86faef",
        "outputId": "f88f38bc-a061-46d1-8ad4-8d3f01da28cd"
      },
      "outputs": [
        {
          "data": {
            "image/png": "[encoded data removed]",
            "text/plain": [
              "<Figure size 720x360 with 1 Axes>"
            ]
          },
          "metadata": {
            "needs_background": "light"
          },
          "output_type": "display_data"
        }
      ],
      "source": [
        "plt.figure(figsize=(10,5))\n",
        "sns.boxplot(data = df, y = 'time_spent_on_the_page', x = 'landing_page', \n",
        "            hue='converted', hue_order= ['no', 'yes'], showmeans=True);"
      ]
    },
    {
      "cell_type": "markdown",
      "id": "e090d339",
      "metadata": {
        "id": "e090d339"
      },
      "source": [
        "Irrelevent to the landing page being new or old, users who subscribed to the channel, on average, spent more time on the page."
      ]
    },
    {
      "cell_type": "code",
      "execution_count": null,
      "id": "ddee55cb",
      "metadata": {
        "id": "ddee55cb",
        "outputId": "e87bf475-1b85-4816-ef4d-d798e0239538"
      },
      "outputs": [
        {
          "data": {
            "image/png": "[encoded data removed]",
            "text/plain": [
              "<Figure size 1080x360 with 1 Axes>"
            ]
          },
          "metadata": {
            "needs_background": "light"
          },
          "output_type": "display_data"
        }
      ],
      "source": [
        "plt.figure(figsize=(15,5))\n",
        "sns.boxplot(data = df[df['landing_page'] == 'new'], y = 'time_spent_on_the_page', \n",
        "            x = 'language_preferred', hue='converted', hue_order= ['no', 'yes'], showmeans=True);"
      ]
    },
    {
      "cell_type": "markdown",
      "id": "a6e77053",
      "metadata": {
        "id": "a6e77053"
      },
      "source": [
        "Same as previous graph, here we can see that irrelevant to the language, users who subscribed to the channel spent more time on the page."
      ]
    },
    {
      "cell_type": "markdown",
      "id": "e0c9b4ba",
      "metadata": {
        "id": "e0c9b4ba"
      },
      "source": [
        "## 2. Do the users spend more time on the new landing page than the existing landing page? (10 Marks)"
      ]
    },
    {
      "cell_type": "markdown",
      "id": "050264f9",
      "metadata": {
        "id": "050264f9"
      },
      "source": [
        "### Visual Analysis"
      ]
    },
    {
      "cell_type": "code",
      "execution_count": null,
      "id": "1e6942d2",
      "metadata": {
        "id": "1e6942d2",
        "outputId": "89570f89-0a50-4b4d-b5c2-04776bdb5f3e"
      },
      "outputs": [
        {
          "name": "stdout",
          "output_type": "stream",
          "text": [
            "The average time spent on the new landing page is 6.2 minutes\n",
            "The average time spent on the old landing page is 4.5 minutes\n"
          ]
        },
        {
          "data": {
            "image/png": "[encoded data removed]",
            "text/plain": [
              "<Figure size 432x288 with 1 Axes>"
            ]
          },
          "metadata": {
            "needs_background": "light"
          },
          "output_type": "display_data"
        }
      ],
      "source": [
        "# box plot to show variability and means:\n",
        "sns.boxplot(data = df, y = 'time_spent_on_the_page', x = 'landing_page', showmeans=True,\n",
        "            meanprops={\"marker\":\"*\",\n",
        "                       \"markerfacecolor\":\"white\", \n",
        "                       \"markeredgecolor\":\"white\",\n",
        "                       \"markersize\":\"15\"});\n",
        "\n",
        "#sample means for the two samples\n",
        "print('The average time spent on the new landing page is ' + \n",
        "      str(round(df[df['landing_page'] == 'new']['time_spent_on_the_page'].mean(),1)) + ' minutes')\n",
        "\n",
        "print('The average time spent on the old landing page is ' + \n",
        "      str(round(df[df['landing_page'] == 'old']['time_spent_on_the_page'].mean(),1)) + ' minutes')"
      ]
    },
    {
      "cell_type": "markdown",
      "id": "f8312c0a",
      "metadata": {
        "id": "f8312c0a"
      },
      "source": [
        "### Observation\n",
        "For this sample of data, on average users spent more time on the new landing page in comparison to the old landing page. However, is the difference large enough to conclude that users spent more time on the new landing page in general (in the population)? The hypotesis testing below will give us more clude on that."
      ]
    },
    {
      "cell_type": "markdown",
      "id": "12e00602",
      "metadata": {
        "id": "12e00602"
      },
      "source": [
        "### Step 1: Define the null and alternate hypotheses"
      ]
    },
    {
      "cell_type": "markdown",
      "id": "13aaf00c",
      "metadata": {
        "id": "13aaf00c"
      },
      "source": [
        "Assuming $\\mu_{new}$ and $\\mu_{old}$ to be the average time users spent on the new and old landing pages respectively, the null and alternatives hypothesises can be defined as:\n",
        "\n",
        "\n",
        ">$H_0:\\mu_{new}=\\mu_{old}$\n",
        "\n",
        ">$H_a:\\mu_{new}>\\mu_{old}$"
      ]
    },
    {
      "cell_type": "markdown",
      "id": "5911797d",
      "metadata": {
        "id": "5911797d"
      },
      "source": [
        "### Step 2: Select Appropriate test"
      ]
    },
    {
      "cell_type": "code",
      "execution_count": null,
      "id": "043d623c",
      "metadata": {
        "id": "043d623c",
        "outputId": "c5b5b67c-9896-4c96-eba4-0709450ab479"
      },
      "outputs": [
        {
          "name": "stdout",
          "output_type": "stream",
          "text": [
            "Standard deviation for time that users spent on new landing page is 1.817\n",
            "Standard deviation for time that users spent on old landing page is 2.582\n"
          ]
        }
      ],
      "source": [
        "# check to see if the samples have equal standard deviations\n",
        "print('Standard deviation for time that users spent on new landing page is', \n",
        "      round(df[df['landing_page'] == 'new']['time_spent_on_the_page'].std(),3))\n",
        "\n",
        "print('Standard deviation for time that users spent on old landing page is',\n",
        "      round(df[df['landing_page'] == 'old']['time_spent_on_the_page'].std(),3))"
      ]
    },
    {
      "cell_type": "markdown",
      "id": "8e2ce729",
      "metadata": {
        "id": "8e2ce729"
      },
      "source": [
        "We are comparing the mean value for two categories. Since the population standard deviation is unknow, upon satisfying the ceriteria, two sample T-test can be performed:\n",
        "* The time useres spent on the page is continuous.\n",
        "* Sample sizes are greater than 30 (50 for each new and old samples), therefore, Central Limit Theorem applies and the distribution of sample means will be normal.\n",
        "* Since samples are taken randomly from different users, the two samples are independent.\n",
        "* Samples are randomly taken from the population as mentioned.\n",
        "\n",
        "All conditions are met to use the two sample T-test."
      ]
    },
    {
      "cell_type": "markdown",
      "id": "a03ee97f",
      "metadata": {
        "id": "a03ee97f"
      },
      "source": [
        "### Step 3: Decide the significance level"
      ]
    },
    {
      "cell_type": "markdown",
      "id": "f97eeeac",
      "metadata": {
        "id": "f97eeeac"
      },
      "source": [
        "As given, the level of significance is 0.05."
      ]
    },
    {
      "cell_type": "markdown",
      "id": "f950c87a",
      "metadata": {
        "id": "f950c87a"
      },
      "source": [
        "### Step 4: Collect and prepare data"
      ]
    },
    {
      "cell_type": "code",
      "execution_count": null,
      "id": "1252d002",
      "metadata": {
        "id": "1252d002"
      },
      "outputs": [],
      "source": [
        "time_spent_new = df[df['landing_page'] == 'new']['time_spent_on_the_page']\n",
        "time_spent_old = df[df['landing_page'] == 'old']['time_spent_on_the_page']"
      ]
    },
    {
      "cell_type": "markdown",
      "id": "cae02a34",
      "metadata": {
        "id": "cae02a34"
      },
      "source": [
        "### Step 5: Calculate the p-value"
      ]
    },
    {
      "cell_type": "code",
      "execution_count": null,
      "id": "f2c6c01c",
      "metadata": {
        "id": "f2c6c01c",
        "outputId": "091fb027-3e27-4498-e6ba-3261f70d5231"
      },
      "outputs": [
        {
          "name": "stdout",
          "output_type": "stream",
          "text": [
            "The p-value is 0.0001392381225166549\n"
          ]
        }
      ],
      "source": [
        "#import the required functions\n",
        "from scipy.stats import ttest_ind\n",
        "\n",
        "# find the p-value\n",
        "test_stat, p_value = ttest_ind(time_spent_new, time_spent_old, equal_var = False, alternative = 'greater')\n",
        "print('The p-value is ' + str(p_value))"
      ]
    },
    {
      "cell_type": "markdown",
      "id": "a229c000",
      "metadata": {
        "id": "a229c000"
      },
      "source": [
        "### Step 6: Compare the p-value with $\\alpha$ and draw conclusion"
      ]
    },
    {
      "cell_type": "markdown",
      "id": "4e259f54",
      "metadata": {
        "id": "4e259f54"
      },
      "source": [
        "P-value is way less than 0.05 as our level of significant which provide us enough evidence to reject the null hypothesis. This implies that on average, users spent more time on the new landing page in comparison to the old landing page. "
      ]
    },
    {
      "cell_type": "markdown",
      "id": "d568dbbf",
      "metadata": {
        "id": "d568dbbf"
      },
      "source": [
        "## 3. Is the conversion rate (the proportion of users who visit the landing page and get converted) for the new page greater than the conversion rate for the old page? (10 Marks)"
      ]
    },
    {
      "cell_type": "markdown",
      "id": "a24cbd00",
      "metadata": {
        "id": "a24cbd00"
      },
      "source": [
        "### Visual Analysis\n",
        "Barplot below shows the two samples of the users on the old and new landing page with the same size (50 users for each sample). As it can be seen, users on the new landing page subscribed more to the channel."
      ]
    },
    {
      "cell_type": "code",
      "execution_count": null,
      "id": "baed986e",
      "metadata": {
        "id": "baed986e",
        "outputId": "ee8a68ff-dace-4271-c3db-af5099956a07"
      },
      "outputs": [
        {
          "data": {
            "image/png": "[encoded data removed]",
            "text/plain": [
              "<Figure size 720x360 with 1 Axes>"
            ]
          },
          "metadata": {
            "needs_background": "light"
          },
          "output_type": "display_data"
        }
      ],
      "source": [
        "df_plot = df.groupby(['converted', 'landing_page']).size().reset_index().pivot(columns='converted',\n",
        "                                                                               index='landing_page',\n",
        "                                                                               values=0).sort_values('landing_page',\n",
        "                                                                                                     ascending=False);\n",
        "df_plot.plot(kind='bar', stacked=True, figsize=(10,5), rot = 0, ylabel = 'Number of Users');"
      ]
    },
    {
      "cell_type": "markdown",
      "id": "9a7e2f5e",
      "metadata": {
        "id": "9a7e2f5e"
      },
      "source": [
        "### Step 1: Define the null and alternate hypotheses\n",
        "Assuming $p_{new}$ and $p_{old}$ to be the proportions of users who became subcriber from the new and old landing pages respectively, the null and alternatives hypothesises can be defined as:\n",
        "\n",
        "\n",
        ">$H_0:p_{new}=p_{old}$\n",
        "\n",
        ">$H_a:p_{new}>p_{old}$"
      ]
    },
    {
      "cell_type": "markdown",
      "id": "dc741bab",
      "metadata": {
        "id": "dc741bab"
      },
      "source": [
        "### Step 2: Select Appropriate test\n",
        "Two proportions are being compared from two samples. If criteria are met, the two-samples proportion Z-test can be used. Here are the checks for the test's assumptions:\n",
        "* Random sampling from the population - Yes, samples are taken randomly from users.\n",
        "* Binomally distributed population - Yes, users either subscribed or didn't.\n",
        "* Central Limit teorem works on binomial distribution as it is close to normal distribution.\n",
        "* Check whether $np$ and $n(1-p)$ are greater than or equal to 10. Below is to find the $n$ and $p$ for new and old page landing samples:"
      ]
    },
    {
      "cell_type": "code",
      "execution_count": null,
      "id": "5a14e8d2",
      "metadata": {
        "scrolled": true,
        "id": "5a14e8d2",
        "outputId": "484a0234-ddae-441b-8def-0ef6ed4dac29"
      },
      "outputs": [
        {
          "name": "stdout",
          "output_type": "stream",
          "text": [
            "n_new * p_new = 33 > 10\n",
            "n_new * (1 - p_new) = 17 > 10\n",
            "n_old * p_old = 21 > 10\n",
            "n_old * (1 - p_old) = 29 > 10\n"
          ]
        }
      ],
      "source": [
        "n_new = df[df['landing_page'] == 'new']['landing_page'].shape[0]\n",
        "p_new = df[(df['landing_page'] == 'new') & (df['converted'] == 'yes')]['landing_page'].shape[0] / n_new\n",
        "n_old = df[df['landing_page'] == 'old']['landing_page'].shape[0]\n",
        "p_old = df[(df['landing_page'] == 'old') & (df['converted'] == 'yes')]['landing_page'].shape[0] / n_old\n",
        "\n",
        "print(\"n_new * p_new = {} > 10\".format(int(n_new * p_new)))\n",
        "print(\"n_new * (1 - p_new) = {} > 10\".format(int(n_new * (1-p_new))))\n",
        "print(\"n_old * p_old = {} > 10\".format(int(n_old * p_old)))\n",
        "print(\"n_old * (1 - p_old) = {} > 10\".format(int(n_old * (1-p_old))))"
      ]
    },
    {
      "cell_type": "markdown",
      "id": "dfec8ba5",
      "metadata": {
        "id": "dfec8ba5"
      },
      "source": [
        "### Step 3: Calculate the p-value\n"
      ]
    },
    {
      "cell_type": "code",
      "execution_count": null,
      "id": "49befa91",
      "metadata": {
        "id": "49befa91",
        "outputId": "e483c6e5-3233-49f7-b7e1-9ddcd0215bc7"
      },
      "outputs": [
        {
          "name": "stdout",
          "output_type": "stream",
          "text": [
            "The p-value is 0.008026308204056278\n"
          ]
        }
      ],
      "source": [
        "# import the required fuction\n",
        "from statsmodels.stats.proportion import proportions_ztest\n",
        "\n",
        "# prepare the arguments for the two proportion Z-test: \n",
        "counts = np.array([n_new*p_new,n_old*p_old])\n",
        "nobs = np.array([n_new,n_old])\n",
        "\n",
        "# find the p-value\n",
        "test_stat, p_value = proportions_ztest(counts, nobs, alternative=\"larger\")\n",
        "print('The p-value is ' + str(p_value))"
      ]
    },
    {
      "cell_type": "markdown",
      "id": "98991b0f",
      "metadata": {
        "id": "98991b0f"
      },
      "source": [
        "### Step 4: Conclusion\n",
        "Considering $\\alpha = 0.05$ as the level of the significant, since the value is less than $\\alpha$, we have enough evidence to reject the null hypothesis and conclude that the rate of users who subscribed to the channel is higher form the new landing page than the old page."
      ]
    },
    {
      "cell_type": "markdown",
      "id": "a1feceac",
      "metadata": {
        "id": "a1feceac"
      },
      "source": [
        "## 4. Is the conversion and preferred language are independent or related? (10 Marks)"
      ]
    },
    {
      "cell_type": "markdown",
      "id": "eea48692",
      "metadata": {
        "id": "eea48692"
      },
      "source": [
        "### Visual Analysis\n",
        "Graph below shows the number of users based off of their language preference and if they subscribed to the channel or not. From the graph, it appears that users with English as their preferred language subscribed to the channel more. However, this should be tested against the null hypotesis that language is indepenent from conversion rate."
      ]
    },
    {
      "cell_type": "code",
      "execution_count": null,
      "id": "df2775af",
      "metadata": {
        "id": "df2775af",
        "outputId": "7ab9e618-0213-4c97-af51-d3a9468daa6f"
      },
      "outputs": [
        {
          "data": {
            "image/png": "[encoded data removed]",
            "text/plain": [
              "<Figure size 1080x360 with 1 Axes>"
            ]
          },
          "metadata": {
            "needs_background": "light"
          },
          "output_type": "display_data"
        }
      ],
      "source": [
        "df_plot = df.groupby(['converted', 'language_preferred']\n",
        "                    ).size().reset_index().pivot(columns='converted', \n",
        "                                                 index='language_preferred', \n",
        "                                                 values=0).sort_values('language_preferred', \n",
        "                                                                       ascending=False);\n",
        "df_plot.plot(kind='bar', stacked=True, figsize=(15,5), rot = 0, ylabel = 'Number of Users');"
      ]
    },
    {
      "cell_type": "markdown",
      "id": "965276ee",
      "metadata": {
        "id": "965276ee"
      },
      "source": [
        "### Step 1: Define the null and alternate hypotheses\n",
        "The null and alternative hypothesis areas below:\n",
        "\n",
        ">$H_0:$ users who subscribed and their preferred language are independent\n",
        "\n",
        ">$H_a:$ users who subscribed and their preferred language are dependent"
      ]
    },
    {
      "cell_type": "code",
      "execution_count": null,
      "id": "34a67ed2",
      "metadata": {
        "id": "34a67ed2",
        "outputId": "33467265-905d-484c-9b9f-3467d27a4ade"
      },
      "outputs": [
        {
          "name": "stdout",
          "output_type": "stream",
          "text": [
            "n_new * p_new = 33 > 10\n",
            "n_new * (1 - p_new) = 17 > 10\n",
            "n_old * p_old = 21 > 10\n",
            "n_old * (1 - p_old) = 29 > 10\n"
          ]
        }
      ],
      "source": [
        "print(\"n_new * p_new = {} > 10\".format(int(n_new * p_new)))\n",
        "print(\"n_new * (1 - p_new) = {} > 10\".format(int(n_new * (1-p_new))))\n",
        "print(\"n_old * p_old = {} > 10\".format(int(n_old * p_old)))\n",
        "print(\"n_old * (1 - p_old) = {} > 10\".format(int(n_old * (1-p_old))))"
      ]
    },
    {
      "cell_type": "markdown",
      "id": "c676f332",
      "metadata": {
        "id": "c676f332"
      },
      "source": [
        "### Step 2: Select Appropriate test\n",
        "The Chi-Square for independece test can be used to check if the users' conversion is dependent on their preferred language. Below is the data prepared for the test: "
      ]
    },
    {
      "cell_type": "code",
      "execution_count": null,
      "id": "9fc2b9dd",
      "metadata": {
        "id": "9fc2b9dd",
        "outputId": "0485422f-4e07-4a8f-c38f-a588289e6550"
      },
      "outputs": [
        {
          "data": {
            "text/html": [
              "<div>\n",
              "<style scoped>\n",
              "    .dataframe tbody tr th:only-of-type {\n",
              "        vertical-align: middle;\n",
              "    }\n",
              "\n",
              "    .dataframe tbody tr th {\n",
              "        vertical-align: top;\n",
              "    }\n",
              "\n",
              "    .dataframe thead th {\n",
              "        text-align: right;\n",
              "    }\n",
              "</style>\n",
              "<table border=\"1\" class=\"dataframe\">\n",
              "  <thead>\n",
              "    <tr style=\"text-align: right;\">\n",
              "      <th>converted</th>\n",
              "      <th>no</th>\n",
              "      <th>yes</th>\n",
              "    </tr>\n",
              "    <tr>\n",
              "      <th>language_preferred</th>\n",
              "      <th></th>\n",
              "      <th></th>\n",
              "    </tr>\n",
              "  </thead>\n",
              "  <tbody>\n",
              "    <tr>\n",
              "      <th>English</th>\n",
              "      <td>11</td>\n",
              "      <td>21</td>\n",
              "    </tr>\n",
              "    <tr>\n",
              "      <th>French</th>\n",
              "      <td>19</td>\n",
              "      <td>15</td>\n",
              "    </tr>\n",
              "    <tr>\n",
              "      <th>Spanish</th>\n",
              "      <td>16</td>\n",
              "      <td>18</td>\n",
              "    </tr>\n",
              "  </tbody>\n",
              "</table>\n",
              "</div>"
            ],
            "text/plain": [
              "converted           no  yes\n",
              "language_preferred         \n",
              "English             11   21\n",
              "French              19   15\n",
              "Spanish             16   18"
            ]
          },
          "execution_count": 58,
          "metadata": {},
          "output_type": "execute_result"
        }
      ],
      "source": [
        "conversion_language_contingency = df.pivot_table(index = 'language_preferred', values ='user_id', \n",
        "                                                 columns ='converted', aggfunc='count')\n",
        "conversion_language_contingency"
      ]
    },
    {
      "cell_type": "code",
      "execution_count": null,
      "id": "dcb1e432",
      "metadata": {
        "id": "dcb1e432",
        "outputId": "2d0a0fdc-f0c8-4626-b6f0-dc08df839089"
      },
      "outputs": [
        {
          "data": {
            "text/html": [
              "<div>\n",
              "<style scoped>\n",
              "    .dataframe tbody tr th:only-of-type {\n",
              "        vertical-align: middle;\n",
              "    }\n",
              "\n",
              "    .dataframe tbody tr th {\n",
              "        vertical-align: top;\n",
              "    }\n",
              "\n",
              "    .dataframe thead th {\n",
              "        text-align: right;\n",
              "    }\n",
              "</style>\n",
              "<table border=\"1\" class=\"dataframe\">\n",
              "  <thead>\n",
              "    <tr style=\"text-align: right;\">\n",
              "      <th>converted</th>\n",
              "      <th>no</th>\n",
              "      <th>yes</th>\n",
              "    </tr>\n",
              "    <tr>\n",
              "      <th>language_preferred</th>\n",
              "      <th></th>\n",
              "      <th></th>\n",
              "    </tr>\n",
              "  </thead>\n",
              "  <tbody>\n",
              "    <tr>\n",
              "      <th>English</th>\n",
              "      <td>11</td>\n",
              "      <td>21</td>\n",
              "    </tr>\n",
              "    <tr>\n",
              "      <th>French</th>\n",
              "      <td>19</td>\n",
              "      <td>15</td>\n",
              "    </tr>\n",
              "    <tr>\n",
              "      <th>Spanish</th>\n",
              "      <td>16</td>\n",
              "      <td>18</td>\n",
              "    </tr>\n",
              "  </tbody>\n",
              "</table>\n",
              "</div>"
            ],
            "text/plain": [
              "converted           no  yes\n",
              "language_preferred         \n",
              "English             11   21\n",
              "French              19   15\n",
              "Spanish             16   18"
            ]
          },
          "execution_count": 17,
          "metadata": {},
          "output_type": "execute_result"
        }
      ],
      "source": [
        "# or\n",
        "pd.crosstab(df['language_preferred'],df['converted'])"
      ]
    },
    {
      "cell_type": "markdown",
      "id": "4871e7b1",
      "metadata": {
        "id": "4871e7b1"
      },
      "source": [
        "The following assumptions are valid for this sample and we can use the Chi-Square test.\n",
        "* Categorical variables\n",
        "* Based on the table above, the number of sample observations in each category is at least 5\n",
        "* Random sampling from the population"
      ]
    },
    {
      "cell_type": "markdown",
      "id": "d40991a8",
      "metadata": {
        "id": "d40991a8"
      },
      "source": [
        "### Step 3: Calculate the p-value\n"
      ]
    },
    {
      "cell_type": "code",
      "execution_count": null,
      "id": "41ee0e78",
      "metadata": {
        "id": "41ee0e78",
        "outputId": "75617649-44a8-4a0c-ea31-28e681da2957"
      },
      "outputs": [
        {
          "name": "stdout",
          "output_type": "stream",
          "text": [
            "The p-value is 0.2129888748754345\n"
          ]
        }
      ],
      "source": [
        "# import the required function\n",
        "from scipy.stats import chi2_contingency\n",
        "\n",
        "# find the p-value\n",
        "chi, p_value, dof, expected = chi2_contingency(conversion_language_contingency)\n",
        "print('The p-value is', p_value)"
      ]
    },
    {
      "cell_type": "markdown",
      "id": "d4f76a1e",
      "metadata": {
        "id": "d4f76a1e"
      },
      "source": [
        "### Step 4: Conclusion\n",
        "Considering $\\alpha = 0.05$ as the level of the significant, p-value is greater than $\\alpha$ and therefore, we do not have enough evidence to reject the null hypothesis. As a result, we cannot conclude that users' convertion and their preferred language are dependent."
      ]
    },
    {
      "cell_type": "markdown",
      "id": "b50a74fb",
      "metadata": {
        "id": "b50a74fb"
      },
      "source": [
        "## 5. Is the time spent on the new page same for the different language users? (10 Marks)"
      ]
    },
    {
      "cell_type": "markdown",
      "id": "e4d8ee0f",
      "metadata": {
        "id": "e4d8ee0f"
      },
      "source": [
        "### Visual Analysis\n",
        "Graph below shows the number of the of users based off of their language preference and if they become subscriber or not."
      ]
    },
    {
      "cell_type": "code",
      "execution_count": null,
      "id": "2b7d5ae6",
      "metadata": {
        "id": "2b7d5ae6",
        "outputId": "70d7df91-5f5d-4b61-cd29-ee2abffb0bca"
      },
      "outputs": [
        {
          "data": {
            "text/plain": [
              "language_preferred\n",
              "English    6.663750\n",
              "French     6.196471\n",
              "Spanish    5.835294\n",
              "Name: time_spent_on_the_page, dtype: float64"
            ]
          },
          "execution_count": 9,
          "metadata": {},
          "output_type": "execute_result"
        },
        {
          "data": {
            "image/png": "[encoded data removed]",
            "text/plain": [
              "<Figure size 1080x360 with 1 Axes>"
            ]
          },
          "metadata": {
            "needs_background": "light"
          },
          "output_type": "display_data"
        }
      ],
      "source": [
        "plt.figure(figsize=(15,5))\n",
        "sns.boxplot(data = df[df['landing_page'] == 'new'], y = 'time_spent_on_the_page', x = 'language_preferred',\n",
        "            showmeans=True, order = list(df['language_preferred'].unique()), \n",
        "            meanprops={\"marker\":\"*\",\n",
        "                       \"markerfacecolor\":\"white\", \n",
        "                       \"markeredgecolor\":\"white\",\n",
        "                       \"markersize\":\"15\"});\n",
        "\n",
        "#sample means for the two samples\n",
        "df_new_page = df[df['landing_page'] == 'new']\n",
        "\n",
        "# print mean values for each language\n",
        "df_new_page.groupby('language_preferred')['time_spent_on_the_page'].mean()"
      ]
    },
    {
      "cell_type": "markdown",
      "id": "d969c9d9",
      "metadata": {
        "id": "d969c9d9"
      },
      "source": [
        "### Step 1: Define the null and alternate hypotheses\n",
        "Assuming $\\mu_1, \\mu_2, \\mu_3$ to be the average time users spent on the new page for each preferred language. The null and alternative hypotheses are:\n",
        "\n",
        ">$H_0: \\mu_1 = \\mu_2 = \\mu_3$\n",
        "\n",
        ">$H_a: $ At least one of the averages is different\n"
      ]
    },
    {
      "cell_type": "markdown",
      "id": "c249988d",
      "metadata": {
        "id": "c249988d"
      },
      "source": [
        "### Step 2: Select Appropriate test\n",
        "Here we are comparing three sample means. One way ANOVA test can be used to test equality of the three sample means. First, the normality and equality of variance assumptions need to be checked."
      ]
    },
    {
      "cell_type": "markdown",
      "id": "8faf04b7",
      "metadata": {
        "id": "8faf04b7"
      },
      "source": [
        "####  Test for normality - Shapiro-Wilk’s test\n",
        "Null and alternative hypotheses are as below:\n",
        ">$H_0:$ The variable 'time users spent on the new page' follows a normal distribution\n",
        "\n",
        ">$H_a:$ 'time users spent on the new page' does not follow a normal distribution\n"
      ]
    },
    {
      "cell_type": "code",
      "execution_count": null,
      "id": "1fe78fb5",
      "metadata": {
        "id": "1fe78fb5",
        "outputId": "e7433175-8828-4aa5-a421-ea94d2a404b8"
      },
      "outputs": [
        {
          "name": "stdout",
          "output_type": "stream",
          "text": [
            "The p-value is 0.8040016293525696\n"
          ]
        }
      ],
      "source": [
        "# import the required function\n",
        "from scipy import stats\n",
        "\n",
        "# find the p-value\n",
        "shapiro_tt, p_value = stats.shapiro(df_new_page['time_spent_on_the_page']) \n",
        "print('The p-value is', p_value)"
      ]
    },
    {
      "cell_type": "markdown",
      "id": "4b69b56b",
      "metadata": {
        "id": "4b69b56b"
      },
      "source": [
        "Assuming same level of significance of $\\alpha = 0.05$, since the p-value is greater, we cannot reject the null hypothesis and we can stay with it which says the time users spent on the new page follows a normal distribution."
      ]
    },
    {
      "cell_type": "markdown",
      "id": "b2b3075b",
      "metadata": {
        "id": "b2b3075b"
      },
      "source": [
        "####  Test for equality of variance - Levene’s test\n",
        "Null and alternative hypotheses are as below:\n",
        ">$H_0:$ Variences of the 'time users spent on the new page' for each preferred-language are equal\n",
        "\n",
        ">$H_a:$ At least one variance is different.\n"
      ]
    },
    {
      "cell_type": "code",
      "execution_count": null,
      "id": "40114df3",
      "metadata": {
        "id": "40114df3",
        "outputId": "fb7fa59c-8cc0-49e2-c76c-b0fe6c39f1f0"
      },
      "outputs": [
        {
          "name": "stdout",
          "output_type": "stream",
          "text": [
            "The p-value is 0.46711357711340173\n"
          ]
        }
      ],
      "source": [
        "#import the required function\n",
        "from scipy.stats import levene\n",
        "leven_tt, p_value = levene(df_new_page[df_new_page['language_preferred']==\"Spanish\"]['time_spent_on_the_page'], \n",
        "                            df_new_page[df_new_page['language_preferred']==\"English\"]['time_spent_on_the_page'], \n",
        "                            df_new_page[df_new_page['language_preferred']==\"French\"]['time_spent_on_the_page'])\n",
        "# find the p-value\n",
        "print('The p-value is', p_value)"
      ]
    },
    {
      "cell_type": "markdown",
      "id": "ecedbb1c",
      "metadata": {
        "id": "ecedbb1c"
      },
      "source": [
        "Since the p-value is larger than $\\alpha = 0.05$, we fail to reject the null hypothesis of equality of variances."
      ]
    },
    {
      "cell_type": "markdown",
      "id": "3511022c",
      "metadata": {
        "id": "3511022c"
      },
      "source": [
        "Therefore, the criteria for using the one-way ANOVA test are met and we can proceed with it."
      ]
    },
    {
      "cell_type": "markdown",
      "id": "28a657c7",
      "metadata": {
        "id": "28a657c7"
      },
      "source": [
        "### Step 3: Calculate the p-value"
      ]
    },
    {
      "cell_type": "code",
      "execution_count": null,
      "id": "992a27ba",
      "metadata": {
        "id": "992a27ba",
        "outputId": "1ac971f8-d136-4e94-d01d-156c1330b618"
      },
      "outputs": [
        {
          "name": "stdout",
          "output_type": "stream",
          "text": [
            "The p-value is 0.43204138694325955\n"
          ]
        }
      ],
      "source": [
        "# import the required function\n",
        "from scipy.stats import f_oneway\n",
        "\n",
        "# perform one-way anova test\n",
        "leven_tt, p_value = f_oneway(df_new_page[df_new_page['language_preferred']==\"Spanish\"]['time_spent_on_the_page'], \n",
        "                            df_new_page[df_new_page['language_preferred']==\"English\"]['time_spent_on_the_page'], \n",
        "                            df_new_page[df_new_page['language_preferred']==\"French\"]['time_spent_on_the_page'])\n",
        "\n",
        "print('The p-value is ' + str(p_value))"
      ]
    },
    {
      "cell_type": "markdown",
      "id": "a01018c0",
      "metadata": {
        "id": "a01018c0"
      },
      "source": [
        "### Step 4: Conclusion\n",
        "Considering $\\alpha = 0.05$ as the level of the significant, p-value is greater than $\\alpha$ and we fail to reject the null hypothesis. As a result, we cannot conclude that on average, users with different language preference, spent less or more time on the new page."
      ]
    },
    {
      "cell_type": "markdown",
      "id": "b6e26e6a",
      "metadata": {
        "id": "b6e26e6a"
      },
      "source": [
        "## Conclusion and Business Recommendations"
      ]
    },
    {
      "cell_type": "markdown",
      "id": "726bf126",
      "metadata": {
        "id": "726bf126"
      },
      "source": [
        "* On average, users spent more time on the new page. This implies the new landing page is more effective to interest the users.\n",
        "* Also, more of users subscribed to the channel on the new landing page than the old page. This also proves the effectiveness of the new landing page. \n",
        "* In general, rate ofconverting to subscriber is independent of the users' langaue preference.\n",
        "* Users with different langages spent equal time on the new landing page on average.\n",
        "* It is recommended to use the new landing page for the future.\n",
        "* Keeping the users spending more time on the page, increase the chance for them to subcribe to the channel. \n"
      ]
    }
  ],
  "metadata": {
    "colab": {
      "collapsed_sections": [],
      "name": "ENews_Express_Learner_Notebook%5BFull_Code_Version%5D-VahidSalahi.ipynb",
      "provenance": [],
      "include_colab_link": true
    },
    "kernelspec": {
      "display_name": "Python 3",
      "language": "python",
      "name": "python3"
    },
    "language_info": {
      "codemirror_mode": {
        "name": "ipython",
        "version": 3
      },
      "file_extension": ".py",
      "mimetype": "text/x-python",
      "name": "python",
      "nbconvert_exporter": "python",
      "pygments_lexer": "ipython3",
      "version": "3.8.8"
    }
  },
  "nbformat": 4,
  "nbformat_minor": 5
}